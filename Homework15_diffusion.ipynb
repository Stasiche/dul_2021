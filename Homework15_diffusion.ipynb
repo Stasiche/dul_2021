{
 "cells": [
  {
   "cell_type": "code",
   "execution_count": 1,
   "metadata": {
    "colab": {
     "base_uri": "https://localhost:8080/"
    },
    "id": "6EAvrriX7MVW",
    "outputId": "5d5ae5ce-0962-4ebf-ba65-ea2cf9cdbf1a"
   },
   "outputs": [],
   "source": [
    "# ! pip install denoising_diffusion_pytorch"
   ]
  },
  {
   "cell_type": "markdown",
   "metadata": {
    "id": "pkcTtYFc7MVa"
   },
   "source": [
    "# Imports"
   ]
  },
  {
   "cell_type": "code",
   "execution_count": 2,
   "metadata": {
    "id": "gfyA5rKt7MVb"
   },
   "outputs": [],
   "source": [
    "import copy\n",
    "\n",
    "import numpy as np\n",
    "\n",
    "import torch\n",
    "from torch import nn\n",
    "import torch.distributions as D\n",
    "from torch import autograd\n",
    "\n",
    "from torchvision import transforms\n",
    "from torchvision.datasets import MNIST\n",
    "from torch.utils.data import DataLoader\n",
    "from torchvision.utils import make_grid\n",
    "\n",
    "from denoising_diffusion_pytorch import Unet\n",
    "\n",
    "import matplotlib.pyplot as plt\n",
    "from tqdm.auto import tqdm, trange"
   ]
  },
  {
   "cell_type": "code",
   "execution_count": 3,
   "metadata": {
    "colab": {
     "base_uri": "https://localhost:8080/"
    },
    "id": "I4vxMLlW7MVc",
    "outputId": "46a188d4-4c8e-4c1a-e9a1-0ec30d2b4b20"
   },
   "outputs": [
    {
     "data": {
      "text/plain": "<torch._C.Generator at 0x7f54199909d0>"
     },
     "execution_count": 3,
     "metadata": {},
     "output_type": "execute_result"
    }
   ],
   "source": [
    "import random\n",
    "\n",
    "random.seed(0)\n",
    "np.random.seed(0)\n",
    "torch.manual_seed(0)"
   ]
  },
  {
   "cell_type": "code",
   "execution_count": 4,
   "metadata": {
    "id": "ov1FZVq37MVd"
   },
   "outputs": [],
   "source": [
    "device = torch.device('cuda' if torch.cuda.is_available() else 'cpu')\n",
    "# device = torch.device('cpu')"
   ]
  },
  {
   "cell_type": "markdown",
   "metadata": {
    "id": "wT0kLM_x7MVd"
   },
   "source": [
    "# Data"
   ]
  },
  {
   "cell_type": "code",
   "execution_count": 5,
   "metadata": {
    "id": "AgyIoNWp7MVe"
   },
   "outputs": [],
   "source": [
    "transform = transforms.Compose([\n",
    "    transforms.ToTensor(),\n",
    "    transforms.Resize((16, 16)),\n",
    "    transforms.Normalize((0.5), (0.5)),\n",
    "])"
   ]
  },
  {
   "cell_type": "code",
   "execution_count": 6,
   "metadata": {
    "id": "8Awtd_Kw7MVe"
   },
   "outputs": [],
   "source": [
    "train_data = MNIST(root='./data/', train=True, download=True, transform=transform)\n",
    "val_data = MNIST(root='./data/', train=False, download=True, transform=transform)"
   ]
  },
  {
   "cell_type": "code",
   "execution_count": 7,
   "metadata": {
    "id": "r7NGKVgh7MVf"
   },
   "outputs": [],
   "source": [
    "BATCH_SIZE = 128"
   ]
  },
  {
   "cell_type": "code",
   "execution_count": 8,
   "metadata": {
    "id": "gEvQe9-R7MVf"
   },
   "outputs": [],
   "source": [
    "train_loader = DataLoader(\n",
    "    train_data,\n",
    "    batch_size=BATCH_SIZE,\n",
    "    shuffle=True,\n",
    "    num_workers=2,\n",
    "    drop_last=True\n",
    ")\n",
    "val_loader = DataLoader(\n",
    "    val_data,\n",
    "    batch_size=BATCH_SIZE,\n",
    "    shuffle=False,\n",
    "    num_workers=2,\n",
    "    drop_last=True\n",
    ")"
   ]
  },
  {
   "cell_type": "markdown",
   "metadata": {
    "id": "aBU_vIJb7MVg"
   },
   "source": [
    "# Utils"
   ]
  },
  {
   "cell_type": "code",
   "execution_count": 9,
   "metadata": {
    "id": "bpbwYmum7MVg"
   },
   "outputs": [],
   "source": [
    "def f_(f, x):\n",
    "    x = x.clone()\n",
    "\n",
    "    with torch.enable_grad():\n",
    "        if not x.requires_grad:\n",
    "            x.requires_grad = True\n",
    "\n",
    "        y = f(x)\n",
    "\n",
    "        (grad,) = autograd.grad(y.sum(), x, create_graph=False)\n",
    "\n",
    "    return grad"
   ]
  },
  {
   "cell_type": "code",
   "execution_count": 10,
   "metadata": {
    "id": "iMI8nMma7MVg"
   },
   "outputs": [],
   "source": [
    "@torch.no_grad()\n",
    "def solve_sde(x, f, g, ts=0, tf=1, dt=1e-3):\n",
    "    for t in tqdm(np.arange(ts, tf, dt)):\n",
    "        tt = torch.FloatTensor([t]).to(device)\n",
    "        z = torch.randn_like(x).to(device)\n",
    "        x = x + f(x, tt) * dt + g(tt) * z * abs(dt) ** 0.5\n",
    "\n",
    "    return x"
   ]
  },
  {
   "cell_type": "code",
   "execution_count": 11,
   "metadata": {
    "id": "zS34Bcji7MVh"
   },
   "outputs": [],
   "source": [
    "@torch.no_grad()\n",
    "def show_imgs(x):\n",
    "    x = x.detach().cpu()\n",
    "\n",
    "    img = make_grid(x, nrow=5)\n",
    "    img = img.permute(1, 2, 0)\n",
    "    img = img * 0.5 + 0.5\n",
    "\n",
    "    plt.imshow(img.numpy())\n",
    "    plt.show()"
   ]
  },
  {
   "cell_type": "markdown",
   "metadata": {
    "id": "_sb0JoLV7MVh"
   },
   "source": [
    "# Question 1. DDPM\n",
    "\n",
    "В этом задание вам предлагается реализовать диффузную модель с непрерывным временем на основе DDPM. Технический код уже написан, нужно лишь восстановить содержательные функции."
   ]
  },
  {
   "cell_type": "code",
   "execution_count": 12,
   "metadata": {
    "id": "JshlPMYe7MVh"
   },
   "outputs": [],
   "source": [
    "class ContDDPM(nn.Module):\n",
    "    def __init__(self):\n",
    "        super().__init__()\n",
    "\n",
    "        self.eps_th = Unet(\n",
    "            dim=16,\n",
    "            dim_mults=(1, 2, 3),\n",
    "            channels=1\n",
    "        )\n",
    "\n",
    "    @property\n",
    "    def device(self):\n",
    "        return next(self.parameters()).device\n",
    "\n",
    "    def gamma(self, t):\n",
    "        return torch.log(torch.expm1(1e-4 + 10 * t ** 2))\n",
    "\n",
    "    # Coefficient \\bar{a}_t\n",
    "    # see presentation, slide 19\n",
    "    def a_bar(self, t):\n",
    "        g = self.gamma(t)\n",
    "        return torch.sigmoid(-g)\n",
    "\n",
    "    def sigma_2(self, t):\n",
    "        return 1 - self.a_bar(t)\n",
    "\n",
    "    def log_a_bar_sqrt_(self, t):\n",
    "        return 0.5 * f_(lambda s: torch.log(self.a_bar(s)), t)\n",
    "\n",
    "    # Coefficient f(x, t)\n",
    "    # see presentation, slide 31\n",
    "    def f(self, x_t, t):\n",
    "        return self.log_a_bar_sqrt_(t) * x_t\n",
    "\n",
    "    # Coefficient g^2(t)\n",
    "    # see presentation, slide 31\n",
    "    def g_2(self, t):\n",
    "        return f_(self.sigma_2, t) - 2 * self.log_a_bar_sqrt_(t) * self.sigma_2(t)\n",
    "\n",
    "    # Learned score function\n",
    "    # see presentation, slide 28\n",
    "    def score(self, x_t, t):\n",
    "        \"\"\"\n",
    "        x_t: tensort [bs, 1, 16, 16]\n",
    "        t: tensort [bs]\n",
    "\n",
    "        Returns\n",
    "        - score: tensor  [bs, 1, 16, 16]\n",
    "        \"\"\"\n",
    "\n",
    "        # TODO\n",
    "        return -self.eps_th(x_t, t) / self.sigma_2(t).sqrt().reshape(-1, 1, 1, 1)\n",
    "\n",
    "    def sample_t(self, bs):\n",
    "        device = self.device\n",
    "        t = torch.rand(bs).to(device)\n",
    "        return t\n",
    "\n",
    "    # Transition sampling q(x_t|x_0)\n",
    "    # see presentation, slide 19 and 25\n",
    "    def sample_x_t(self, x_0, t):\n",
    "        \"\"\"\n",
    "        x_0: tensort [bs, 1, 16, 16]\n",
    "        t: tensort [bs]\n",
    "\n",
    "        Returns\n",
    "        - x_t: tensor  [bs, 1, 16, 16]\n",
    "        \"\"\"\n",
    "\n",
    "        # TODO\n",
    "        a_bar = self.a_bar(t)\n",
    "        mu = torch.sqrt(a_bar).reshape(-1, 1, 1, 1) * x_0\n",
    "        sigma = torch.sqrt(1 - a_bar).reshape(-1, 1, 1, 1)\n",
    "\n",
    "        eps = torch.randn_like(x_0)\n",
    "        x_t = mu + sigma*eps\n",
    "        return x_t, eps\n",
    "\n",
    "    # Loss function\n",
    "    # see presentation, slide 26\n",
    "    def get_loss(self, x_0):\n",
    "        device = self.device\n",
    "        bs = x_0.shape[0]\n",
    "        data_dims = tuple(np.arange(1, len(x_0.shape)))\n",
    "\n",
    "        t = self.sample_t(bs)\n",
    "        x_t, eps = self.sample_x_t(x_0, t)\n",
    "\n",
    "        loss = ((eps - self.eps_th(x_t, t)) ** 2).sum(dim=data_dims)\n",
    "        loss = loss.mean()\n",
    "\n",
    "        return loss\n",
    "\n",
    "    # Sampling according to reverse SDE\n",
    "    # see presentation, slide 32\n",
    "    # Hint: use solve_sde function\n",
    "    def sample_sde(self, bs):\n",
    "        \"\"\"\n",
    "        bs: int\n",
    "\n",
    "        Returns\n",
    "        - x_0: tensor  [bs, 1, 16, 16] generated data\n",
    "        \"\"\"\n",
    "\n",
    "        # TODO\n",
    "        x_t = torch.randn(bs, 1, 16, 16).to(self.device)\n",
    "        return solve_sde(x_t,\n",
    "                         f=lambda x, t: -self.f(x, 1-t) + self.g_2(1-t) * self.score(x, 1-t),\n",
    "                         g=lambda t: -self.g_2(1-t).sqrt())\n"
   ]
  },
  {
   "cell_type": "markdown",
   "metadata": {
    "id": "gBSrZpO37MVi"
   },
   "source": [
    "## Training"
   ]
  },
  {
   "cell_type": "code",
   "execution_count": 13,
   "metadata": {
    "id": "pumncGb87MVj"
   },
   "outputs": [],
   "source": [
    "def calc_losses(ddpm, x):\n",
    "    loss = ddpm.get_loss(x)\n",
    "\n",
    "    return loss"
   ]
  },
  {
   "cell_type": "code",
   "execution_count": 14,
   "metadata": {
    "id": "9EbRPEnW7MVj"
   },
   "outputs": [],
   "source": [
    "def train_step(ddpm, x, optim):\n",
    "    loss_total = calc_losses(ddpm, x)\n",
    "\n",
    "    optim.zero_grad()\n",
    "    loss_total.backward()\n",
    "    optim.step()\n",
    "\n",
    "    return loss_total.item()"
   ]
  },
  {
   "cell_type": "code",
   "execution_count": 15,
   "metadata": {
    "id": "f-eS9KEA7MVj"
   },
   "outputs": [],
   "source": [
    "def train_epoch(ddpm, data_loader, optim):\n",
    "    ddpm.train()\n",
    "\n",
    "    losses = []\n",
    "    for x, _ in data_loader:\n",
    "        x = x.to(device)\n",
    "\n",
    "        loss_total = train_step(ddpm, x, optim)\n",
    "\n",
    "        losses += [loss_total]\n",
    "        del x\n",
    "\n",
    "    loss_mean = np.mean(losses)\n",
    "\n",
    "    return loss_mean"
   ]
  },
  {
   "cell_type": "code",
   "execution_count": 16,
   "metadata": {
    "id": "bt84fxW_7MVk"
   },
   "outputs": [],
   "source": [
    "@torch.no_grad()\n",
    "def val_epoch(ddpm, data_loader):\n",
    "    ddpm.eval()\n",
    "\n",
    "    losses = []\n",
    "    for x, _ in data_loader:\n",
    "        x = x.to(device)\n",
    "\n",
    "        total_loss = calc_losses(ddpm, x)\n",
    "\n",
    "        losses += [total_loss.cpu()]\n",
    "\n",
    "    loss_mean = np.mean(losses)\n",
    "\n",
    "    return loss_mean"
   ]
  },
  {
   "cell_type": "code",
   "execution_count": 17,
   "metadata": {
    "id": "DoTNMFCf7MVk"
   },
   "outputs": [],
   "source": [
    "def train(ddpm, train_loader, val_loader, optim, epochs):\n",
    "    for epoch in trange(epochs):\n",
    "        train_los = train_epoch(ddpm, train_loader, optim)\n",
    "        val_los = val_epoch(ddpm, val_loader)\n",
    "        print(f\"train: {train_los}    val: {val_los}\")"
   ]
  },
  {
   "cell_type": "markdown",
   "metadata": {
    "id": "dwcybbJ37MVk"
   },
   "source": [
    "## Experiment"
   ]
  },
  {
   "cell_type": "code",
   "execution_count": 18,
   "metadata": {
    "scrolled": false,
    "id": "gYa-Tgpg7MVk"
   },
   "outputs": [
    {
     "data": {
      "text/plain": "  0%|          | 0/30 [00:00<?, ?it/s]",
      "application/vnd.jupyter.widget-view+json": {
       "version_major": 2,
       "version_minor": 0,
       "model_id": "feafb65cc4aa449ba69fd8a4c837709b"
      }
     },
     "metadata": {},
     "output_type": "display_data"
    },
    {
     "name": "stdout",
     "output_type": "stream",
     "text": [
      "train: 59.817714841956764    val: 23.56947135925293\n",
      "train: 20.962385466975025    val: 19.938535690307617\n",
      "train: 18.299506169099075    val: 17.33490562438965\n",
      "train: 16.858013972257957    val: 16.416229248046875\n",
      "train: 15.905038226364006    val: 15.57913875579834\n",
      "train: 15.054241746918768    val: 14.513765335083008\n",
      "train: 14.387409719646486    val: 14.209460258483887\n",
      "train: 13.876108568957727    val: 13.428308486938477\n",
      "train: 13.363034564205725    val: 13.27599811553955\n",
      "train: 13.123183094538176    val: 13.815278053283691\n",
      "train: 12.749034345659435    val: 12.911683082580566\n",
      "train: 12.788853235733814    val: 12.405481338500977\n",
      "train: 12.471485080882015    val: 11.97493839263916\n",
      "train: 12.415458265532795    val: 12.00533390045166\n",
      "train: 12.15656909168276    val: 11.922542572021484\n",
      "train: 12.035367864828844    val: 11.520318984985352\n",
      "train: 11.907769223563692    val: 11.821043014526367\n",
      "train: 11.892805512134846    val: 11.554384231567383\n",
      "train: 11.793719697202373    val: 11.448447227478027\n",
      "train: 11.673699082472385    val: 11.337350845336914\n",
      "train: 11.654875708441448    val: 11.331809997558594\n",
      "train: 11.481348411649721    val: 11.394692420959473\n",
      "train: 11.414688633038448    val: 11.850618362426758\n",
      "train: 11.322063386949718    val: 11.447339057922363\n",
      "train: 11.28062491844862    val: 11.200690269470215\n",
      "train: 11.17192184823191    val: 11.146761894226074\n",
      "train: 11.147560668806744    val: 10.801695823669434\n",
      "train: 10.971022974731575    val: 10.951231002807617\n",
      "train: 11.077221575965229    val: 11.107094764709473\n",
      "train: 10.987822666127457    val: 10.876984596252441\n"
     ]
    }
   ],
   "source": [
    "ddpm = ContDDPM()\n",
    "ddpm.to(device)\n",
    "\n",
    "optim = torch.optim.Adam(ddpm.parameters(), lr=2e-4)\n",
    "\n",
    "train(ddpm, train_loader, val_loader, optim, epochs=30)"
   ]
  },
  {
   "cell_type": "code",
   "execution_count": 19,
   "outputs": [
    {
     "data": {
      "text/plain": "  0%|          | 0/1000 [00:00<?, ?it/s]",
      "application/vnd.jupyter.widget-view+json": {
       "version_major": 2,
       "version_minor": 0,
       "model_id": "517b5a2535584e28ba907bccba9d5045"
      }
     },
     "metadata": {},
     "output_type": "display_data"
    },
    {
     "name": "stderr",
     "output_type": "stream",
     "text": [
      "Clipping input data to the valid range for imshow with RGB data ([0..1] for floats or [0..255] for integers).\n"
     ]
    },
    {
     "data": {
      "text/plain": "<Figure size 432x288 with 1 Axes>",
      "image/png": "[encoded data removed]"
     },
     "metadata": {
      "needs_background": "light"
     },
     "output_type": "display_data"
    }
   ],
   "source": [
    "x = ddpm.sample_sde(bs=25)\n",
    "show_imgs(x)"
   ],
   "metadata": {
    "collapsed": false,
    "pycharm": {
     "name": "#%%\n"
    }
   }
  },
  {
   "cell_type": "markdown",
   "source": [
    "# Bonus. Conditional generation\n",
    "\n",
    "На паре мы обсуждали возможность делать условную генерацию с помощью диффузных моделей (см. презентацию, слайд 35). Бонусное задание - реализовать генерацию с условием на класс. Для этого нужно:\n",
    "\n",
    "*   Обучить безусловную генерацию из первого задания\n",
    "*   Обучить классификатор обусловленный на время\n",
    "*   Собрать все вместе\n",
    "\n"
   ],
   "metadata": {
    "id": "6Ho0s0CQZcQO"
   }
  },
  {
   "cell_type": "code",
   "source": [
    ""
   ],
   "metadata": {
    "id": "DP9Zog9EggQl"
   },
   "execution_count": 19,
   "outputs": []
  }
 ],
 "metadata": {
  "kernelspec": {
   "display_name": "Python 3",
   "language": "python",
   "name": "python3"
  },
  "language_info": {
   "codemirror_mode": {
    "name": "ipython",
    "version": 3
   },
   "file_extension": ".py",
   "mimetype": "text/x-python",
   "name": "python",
   "nbconvert_exporter": "python",
   "pygments_lexer": "ipython3",
   "version": "3.6.6"
  },
  "colab": {
   "name": "Копия блокнота \"Homework15_diffusion.ipynb\"",
   "provenance": [],
   "collapsed_sections": [],
   "include_colab_link": true
  },
  "accelerator": "GPU",
  "widgets": {
   "application/vnd.jupyter.widget-state+json": {
    "c11fb6f5a1a74e01bc52d2364c6dbced": {
     "model_module": "@jupyter-widgets/controls",
     "model_name": "HBoxModel",
     "model_module_version": "1.5.0",
     "state": {
      "_dom_classes": [],
      "_model_module": "@jupyter-widgets/controls",
      "_model_module_version": "1.5.0",
      "_model_name": "HBoxModel",
      "_view_count": null,
      "_view_module": "@jupyter-widgets/controls",
      "_view_module_version": "1.5.0",
      "_view_name": "HBoxView",
      "box_style": "",
      "children": [
       "IPY_MODEL_93b1ceb93fa94c3798a66e1ee2ee9b58",
       "IPY_MODEL_ef258eac204347178689f6ef596e95e4",
       "IPY_MODEL_e07d0f0da550472eb8fd4f051173941f"
      ],
      "layout": "IPY_MODEL_c0b0755f8ba94430924490cce1081a70"
     }
    },
    "93b1ceb93fa94c3798a66e1ee2ee9b58": {
     "model_module": "@jupyter-widgets/controls",
     "model_name": "HTMLModel",
     "model_module_version": "1.5.0",
     "state": {
      "_dom_classes": [],
      "_model_module": "@jupyter-widgets/controls",
      "_model_module_version": "1.5.0",
      "_model_name": "HTMLModel",
      "_view_count": null,
      "_view_module": "@jupyter-widgets/controls",
      "_view_module_version": "1.5.0",
      "_view_name": "HTMLView",
      "description": "",
      "description_tooltip": null,
      "layout": "IPY_MODEL_b60a56d8595c44bbbf9313119e31f847",
      "placeholder": "​",
      "style": "IPY_MODEL_c5a0908ca3934607bec7ce5a26296827",
      "value": "100%"
     }
    },
    "ef258eac204347178689f6ef596e95e4": {
     "model_module": "@jupyter-widgets/controls",
     "model_name": "FloatProgressModel",
     "model_module_version": "1.5.0",
     "state": {
      "_dom_classes": [],
      "_model_module": "@jupyter-widgets/controls",
      "_model_module_version": "1.5.0",
      "_model_name": "FloatProgressModel",
      "_view_count": null,
      "_view_module": "@jupyter-widgets/controls",
      "_view_module_version": "1.5.0",
      "_view_name": "ProgressView",
      "bar_style": "success",
      "description": "",
      "description_tooltip": null,
      "layout": "IPY_MODEL_62729254ac464586943f36d7bce01bec",
      "max": 1000,
      "min": 0,
      "orientation": "horizontal",
      "style": "IPY_MODEL_2f72f1215c2642f0aa193d7942d18409",
      "value": 1000
     }
    },
    "e07d0f0da550472eb8fd4f051173941f": {
     "model_module": "@jupyter-widgets/controls",
     "model_name": "HTMLModel",
     "model_module_version": "1.5.0",
     "state": {
      "_dom_classes": [],
      "_model_module": "@jupyter-widgets/controls",
      "_model_module_version": "1.5.0",
      "_model_name": "HTMLModel",
      "_view_count": null,
      "_view_module": "@jupyter-widgets/controls",
      "_view_module_version": "1.5.0",
      "_view_name": "HTMLView",
      "description": "",
      "description_tooltip": null,
      "layout": "IPY_MODEL_c82068e3e0954e8e9841ee7cf1933ecb",
      "placeholder": "​",
      "style": "IPY_MODEL_c3b3c0efb22947a3bfe10b6648ce0146",
      "value": " 1000/1000 [00:20&lt;00:00, 50.48it/s]"
     }
    },
    "c0b0755f8ba94430924490cce1081a70": {
     "model_module": "@jupyter-widgets/base",
     "model_name": "LayoutModel",
     "model_module_version": "1.2.0",
     "state": {
      "_model_module": "@jupyter-widgets/base",
      "_model_module_version": "1.2.0",
      "_model_name": "LayoutModel",
      "_view_count": null,
      "_view_module": "@jupyter-widgets/base",
      "_view_module_version": "1.2.0",
      "_view_name": "LayoutView",
      "align_content": null,
      "align_items": null,
      "align_self": null,
      "border": null,
      "bottom": null,
      "display": null,
      "flex": null,
      "flex_flow": null,
      "grid_area": null,
      "grid_auto_columns": null,
      "grid_auto_flow": null,
      "grid_auto_rows": null,
      "grid_column": null,
      "grid_gap": null,
      "grid_row": null,
      "grid_template_areas": null,
      "grid_template_columns": null,
      "grid_template_rows": null,
      "height": null,
      "justify_content": null,
      "justify_items": null,
      "left": null,
      "margin": null,
      "max_height": null,
      "max_width": null,
      "min_height": null,
      "min_width": null,
      "object_fit": null,
      "object_position": null,
      "order": null,
      "overflow": null,
      "overflow_x": null,
      "overflow_y": null,
      "padding": null,
      "right": null,
      "top": null,
      "visibility": null,
      "width": null
     }
    },
    "b60a56d8595c44bbbf9313119e31f847": {
     "model_module": "@jupyter-widgets/base",
     "model_name": "LayoutModel",
     "model_module_version": "1.2.0",
     "state": {
      "_model_module": "@jupyter-widgets/base",
      "_model_module_version": "1.2.0",
      "_model_name": "LayoutModel",
      "_view_count": null,
      "_view_module": "@jupyter-widgets/base",
      "_view_module_version": "1.2.0",
      "_view_name": "LayoutView",
      "align_content": null,
      "align_items": null,
      "align_self": null,
      "border": null,
      "bottom": null,
      "display": null,
      "flex": null,
      "flex_flow": null,
      "grid_area": null,
      "grid_auto_columns": null,
      "grid_auto_flow": null,
      "grid_auto_rows": null,
      "grid_column": null,
      "grid_gap": null,
      "grid_row": null,
      "grid_template_areas": null,
      "grid_template_columns": null,
      "grid_template_rows": null,
      "height": null,
      "justify_content": null,
      "justify_items": null,
      "left": null,
      "margin": null,
      "max_height": null,
      "max_width": null,
      "min_height": null,
      "min_width": null,
      "object_fit": null,
      "object_position": null,
      "order": null,
      "overflow": null,
      "overflow_x": null,
      "overflow_y": null,
      "padding": null,
      "right": null,
      "top": null,
      "visibility": null,
      "width": null
     }
    },
    "c5a0908ca3934607bec7ce5a26296827": {
     "model_module": "@jupyter-widgets/controls",
     "model_name": "DescriptionStyleModel",
     "model_module_version": "1.5.0",
     "state": {
      "_model_module": "@jupyter-widgets/controls",
      "_model_module_version": "1.5.0",
      "_model_name": "DescriptionStyleModel",
      "_view_count": null,
      "_view_module": "@jupyter-widgets/base",
      "_view_module_version": "1.2.0",
      "_view_name": "StyleView",
      "description_width": ""
     }
    },
    "62729254ac464586943f36d7bce01bec": {
     "model_module": "@jupyter-widgets/base",
     "model_name": "LayoutModel",
     "model_module_version": "1.2.0",
     "state": {
      "_model_module": "@jupyter-widgets/base",
      "_model_module_version": "1.2.0",
      "_model_name": "LayoutModel",
      "_view_count": null,
      "_view_module": "@jupyter-widgets/base",
      "_view_module_version": "1.2.0",
      "_view_name": "LayoutView",
      "align_content": null,
      "align_items": null,
      "align_self": null,
      "border": null,
      "bottom": null,
      "display": null,
      "flex": null,
      "flex_flow": null,
      "grid_area": null,
      "grid_auto_columns": null,
      "grid_auto_flow": null,
      "grid_auto_rows": null,
      "grid_column": null,
      "grid_gap": null,
      "grid_row": null,
      "grid_template_areas": null,
      "grid_template_columns": null,
      "grid_template_rows": null,
      "height": null,
      "justify_content": null,
      "justify_items": null,
      "left": null,
      "margin": null,
      "max_height": null,
      "max_width": null,
      "min_height": null,
      "min_width": null,
      "object_fit": null,
      "object_position": null,
      "order": null,
      "overflow": null,
      "overflow_x": null,
      "overflow_y": null,
      "padding": null,
      "right": null,
      "top": null,
      "visibility": null,
      "width": null
     }
    },
    "2f72f1215c2642f0aa193d7942d18409": {
     "model_module": "@jupyter-widgets/controls",
     "model_name": "ProgressStyleModel",
     "model_module_version": "1.5.0",
     "state": {
      "_model_module": "@jupyter-widgets/controls",
      "_model_module_version": "1.5.0",
      "_model_name": "ProgressStyleModel",
      "_view_count": null,
      "_view_module": "@jupyter-widgets/base",
      "_view_module_version": "1.2.0",
      "_view_name": "StyleView",
      "bar_color": null,
      "description_width": ""
     }
    },
    "c82068e3e0954e8e9841ee7cf1933ecb": {
     "model_module": "@jupyter-widgets/base",
     "model_name": "LayoutModel",
     "model_module_version": "1.2.0",
     "state": {
      "_model_module": "@jupyter-widgets/base",
      "_model_module_version": "1.2.0",
      "_model_name": "LayoutModel",
      "_view_count": null,
      "_view_module": "@jupyter-widgets/base",
      "_view_module_version": "1.2.0",
      "_view_name": "LayoutView",
      "align_content": null,
      "align_items": null,
      "align_self": null,
      "border": null,
      "bottom": null,
      "display": null,
      "flex": null,
      "flex_flow": null,
      "grid_area": null,
      "grid_auto_columns": null,
      "grid_auto_flow": null,
      "grid_auto_rows": null,
      "grid_column": null,
      "grid_gap": null,
      "grid_row": null,
      "grid_template_areas": null,
      "grid_template_columns": null,
      "grid_template_rows": null,
      "height": null,
      "justify_content": null,
      "justify_items": null,
      "left": null,
      "margin": null,
      "max_height": null,
      "max_width": null,
      "min_height": null,
      "min_width": null,
      "object_fit": null,
      "object_position": null,
      "order": null,
      "overflow": null,
      "overflow_x": null,
      "overflow_y": null,
      "padding": null,
      "right": null,
      "top": null,
      "visibility": null,
      "width": null
     }
    },
    "c3b3c0efb22947a3bfe10b6648ce0146": {
     "model_module": "@jupyter-widgets/controls",
     "model_name": "DescriptionStyleModel",
     "model_module_version": "1.5.0",
     "state": {
      "_model_module": "@jupyter-widgets/controls",
      "_model_module_version": "1.5.0",
      "_model_name": "DescriptionStyleModel",
      "_view_count": null,
      "_view_module": "@jupyter-widgets/base",
      "_view_module_version": "1.2.0",
      "_view_name": "StyleView",
      "description_width": ""
     }
    }
   }
  }
 },
 "nbformat": 4,
 "nbformat_minor": 0
}