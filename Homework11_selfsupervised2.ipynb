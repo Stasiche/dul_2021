{
 "nbformat": 4,
 "nbformat_minor": 0,
 "metadata": {
  "colab": {
   "name": "Homework11_selfsupervised2.ipynb",
   "provenance": [],
   "collapsed_sections": [],
   "authorship_tag": "ABX9TyMYCLRaOAQTAjapKz3fdLCZ",
   "include_colab_link": true
  },
  "kernelspec": {
   "name": "python3",
   "display_name": "Python 3"
  },
  "language_info": {
   "name": "python"
  }
 },
 "cells": [
  {
   "cell_type": "code",
   "source": [
    "# !if [ -d dul_2021 ]; then rm -Rf dul_2021; fi\n",
    "# !git clone https://github.com/GrigoryBartosh/dul_2021\n",
    "# !pip install ./dul_2021"
   ],
   "metadata": {
    "colab": {
     "base_uri": "https://localhost:8080/"
    },
    "id": "4dRz5SIFKfZD",
    "outputId": "e9270062-3e6d-4de0-d683-fad084e5c11d"
   },
   "execution_count": null,
   "outputs": [
    {
     "output_type": "stream",
     "name": "stdout",
     "text": [
      "Cloning into 'dul_2021'...\n",
      "remote: Enumerating objects: 348, done.\u001B[K\n",
      "remote: Counting objects: 100% (177/177), done.\u001B[K\n",
      "remote: Compressing objects: 100% (108/108), done.\u001B[K\n",
      "remote: Total 348 (delta 100), reused 87 (delta 63), pack-reused 171\u001B[K\n",
      "Receiving objects: 100% (348/348), 55.81 MiB | 30.73 MiB/s, done.\n",
      "Resolving deltas: 100% (161/161), done.\n",
      "Processing ./dul_2021\n",
      "\u001B[33m  DEPRECATION: A future pip version will change local packages to be built in-place without first copying to a temporary directory. We recommend you use --use-feature=in-tree-build to test your packages with this new behavior before it becomes the default.\n",
      "   pip 21.3 will remove support for this functionality. You can find discussion regarding this at https://github.com/pypa/pip/issues/7555.\u001B[0m\n",
      "Building wheels for collected packages: dul-2021\n",
      "  Building wheel for dul-2021 (setup.py) ... \u001B[?25l\u001B[?25hdone\n",
      "  Created wheel for dul-2021: filename=dul_2021-0.1.0-py3-none-any.whl size=26875 sha256=ec8b4be35260cc12ee60889eed6b61c38329e20e0e95ac771560a7124c47f511\n",
      "  Stored in directory: /tmp/pip-ephem-wheel-cache-9dqi43ft/wheels/55/59/29/0fb1c635652157734f4d741f32fc11979149684e83e919de06\n",
      "Successfully built dul-2021\n",
      "Installing collected packages: dul-2021\n",
      "  Attempting uninstall: dul-2021\n",
      "    Found existing installation: dul-2021 0.1.0\n",
      "    Uninstalling dul-2021-0.1.0:\n",
      "      Successfully uninstalled dul-2021-0.1.0\n",
      "Successfully installed dul-2021-0.1.0\n"
     ]
    }
   ]
  },
  {
   "cell_type": "code",
   "execution_count": 1,
   "outputs": [],
   "source": [
    "from utils.hw11_utils import *\n",
    "from torch.utils.data import DataLoader\n",
    "\n",
    "from src.byol import BYOL\n",
    "\n",
    "device = 'cuda'"
   ],
   "metadata": {
    "collapsed": false,
    "pycharm": {
     "name": "#%%\n"
    }
   }
  },
  {
   "cell_type": "markdown",
   "source": [
    "# Question 1. BYOL\n",
    "\n",
    "Here we will implement [BYOL](https://arxiv.org/abs/2006.07733).\n",
    "\n",
    "* You can combine view, representation, and projection into one network. You can use same architechure as in practice. \n",
    "\n",
    "* Use BatchNorm\n",
    "\n",
    "* As predictor use few linear layers\n",
    "\n",
    "* Dataset comes untransformed, so you need to apply transformations during training by yourself. Use same augmentations as in SimCLR\n",
    "\n",
    "**Hyperparameters**\n",
    "\n",
    "* τ = 0.99 (target update coefficient)\n",
    "* lr = 1e-4\n",
    "* num_epochs = 20\n",
    "* latent dim = 128\n",
    "\n",
    "\n",
    "\n",
    "**You will provide the following deliverables**\n",
    "\n",
    "\n",
    "1. Over the course of training, record loss ber batch.\n",
    "2. A function that encodes a batch of images with your trained model. The function recieves a batch torch tensors on cpu and should return transformed 2d tensor (batch size x laten dim). It will be used to test representation on classification task."
   ],
   "metadata": {
    "id": "t7J5FgOHW6Z-"
   }
  },
  {
   "cell_type": "code",
   "source": [
    "def q1(train_data):\n",
    "    \"\"\"\n",
    "    train_data: An (n_train, 1, 28, 28) torchvision dataset of MNIST images with values from -1 to 1\n",
    "\n",
    "    Returns\n",
    "    - a (# of training iterations, ) numpy array  losses on each iteration\n",
    "    - a function that transforms batch of images into their latent representation\n",
    "    \"\"\"\n",
    "    trainloader = DataLoader(train_data, batch_size=256, shuffle=True)\n",
    "    model = BYOL().to(device)\n",
    "\n",
    "    losses = model.fit(trainloader, epochs=20, lr=1e-4)\n",
    "\n",
    "    return losses, model.encode"
   ],
   "metadata": {
    "id": "Og9Fv7sV6nrO"
   },
   "execution_count": 2,
   "outputs": []
  },
  {
   "cell_type": "code",
   "source": [
    "# change flag to False if you want only to test your losses w/o accuracy (it takes around 4-5 minutes)\n",
    "q1_results(q1, True)"
   ],
   "metadata": {
    "colab": {
     "base_uri": "https://localhost:8080/",
     "height": 312
    },
    "id": "3Ib0ne2mX80s",
    "outputId": "1acb2100-8bda-40d2-faad-852fce3f3faa"
   },
   "execution_count": 3,
   "outputs": [
    {
     "data": {
      "text/plain": "Training...:   0%|          | 0/235 [00:00<?, ?it/s]",
      "application/vnd.jupyter.widget-view+json": {
       "version_major": 2,
       "version_minor": 0,
       "model_id": "ad115a2515704bf08d4605fa0044d3f2"
      }
     },
     "metadata": {},
     "output_type": "display_data"
    },
    {
     "data": {
      "text/plain": "Training...:   0%|          | 0/235 [00:00<?, ?it/s]",
      "application/vnd.jupyter.widget-view+json": {
       "version_major": 2,
       "version_minor": 0,
       "model_id": "eb32e49ed13a4d84afafb7ee883c556f"
      }
     },
     "metadata": {},
     "output_type": "display_data"
    },
    {
     "data": {
      "text/plain": "Training...:   0%|          | 0/235 [00:00<?, ?it/s]",
      "application/vnd.jupyter.widget-view+json": {
       "version_major": 2,
       "version_minor": 0,
       "model_id": "65689384c6a64c99ac538221604fbbd7"
      }
     },
     "metadata": {},
     "output_type": "display_data"
    },
    {
     "data": {
      "text/plain": "Training...:   0%|          | 0/235 [00:00<?, ?it/s]",
      "application/vnd.jupyter.widget-view+json": {
       "version_major": 2,
       "version_minor": 0,
       "model_id": "783005569f624b0f80cfc70144e97387"
      }
     },
     "metadata": {},
     "output_type": "display_data"
    },
    {
     "data": {
      "text/plain": "Training...:   0%|          | 0/235 [00:00<?, ?it/s]",
      "application/vnd.jupyter.widget-view+json": {
       "version_major": 2,
       "version_minor": 0,
       "model_id": "7f34c217ab23404b867b901d0a756ec8"
      }
     },
     "metadata": {},
     "output_type": "display_data"
    },
    {
     "data": {
      "text/plain": "Training...:   0%|          | 0/235 [00:00<?, ?it/s]",
      "application/vnd.jupyter.widget-view+json": {
       "version_major": 2,
       "version_minor": 0,
       "model_id": "d7772f1d1d884b60bb846617bea201fe"
      }
     },
     "metadata": {},
     "output_type": "display_data"
    },
    {
     "data": {
      "text/plain": "Training...:   0%|          | 0/235 [00:00<?, ?it/s]",
      "application/vnd.jupyter.widget-view+json": {
       "version_major": 2,
       "version_minor": 0,
       "model_id": "263cd98b1f0c47019f8f669c5694a0c4"
      }
     },
     "metadata": {},
     "output_type": "display_data"
    },
    {
     "data": {
      "text/plain": "Training...:   0%|          | 0/235 [00:00<?, ?it/s]",
      "application/vnd.jupyter.widget-view+json": {
       "version_major": 2,
       "version_minor": 0,
       "model_id": "1f1cff96c857420ca326f77b9d849073"
      }
     },
     "metadata": {},
     "output_type": "display_data"
    },
    {
     "data": {
      "text/plain": "Training...:   0%|          | 0/235 [00:00<?, ?it/s]",
      "application/vnd.jupyter.widget-view+json": {
       "version_major": 2,
       "version_minor": 0,
       "model_id": "02af80b132024447a29e3604e67348c3"
      }
     },
     "metadata": {},
     "output_type": "display_data"
    },
    {
     "data": {
      "text/plain": "Training...:   0%|          | 0/235 [00:00<?, ?it/s]",
      "application/vnd.jupyter.widget-view+json": {
       "version_major": 2,
       "version_minor": 0,
       "model_id": "a1ca4d79adbd41a887511077efc41ec8"
      }
     },
     "metadata": {},
     "output_type": "display_data"
    },
    {
     "data": {
      "text/plain": "Training...:   0%|          | 0/235 [00:00<?, ?it/s]",
      "application/vnd.jupyter.widget-view+json": {
       "version_major": 2,
       "version_minor": 0,
       "model_id": "8113e5ec47a944f98a2d6e7c52b8da05"
      }
     },
     "metadata": {},
     "output_type": "display_data"
    },
    {
     "data": {
      "text/plain": "Training...:   0%|          | 0/235 [00:00<?, ?it/s]",
      "application/vnd.jupyter.widget-view+json": {
       "version_major": 2,
       "version_minor": 0,
       "model_id": "3c262c2442bb469b91ba6b8a5bd32cd5"
      }
     },
     "metadata": {},
     "output_type": "display_data"
    },
    {
     "data": {
      "text/plain": "Training...:   0%|          | 0/235 [00:00<?, ?it/s]",
      "application/vnd.jupyter.widget-view+json": {
       "version_major": 2,
       "version_minor": 0,
       "model_id": "ecb0489d4f0749449b9ddd074ee9e0f3"
      }
     },
     "metadata": {},
     "output_type": "display_data"
    },
    {
     "data": {
      "text/plain": "Training...:   0%|          | 0/235 [00:00<?, ?it/s]",
      "application/vnd.jupyter.widget-view+json": {
       "version_major": 2,
       "version_minor": 0,
       "model_id": "fd1fdc7918534f2ca6371f9f61ab7786"
      }
     },
     "metadata": {},
     "output_type": "display_data"
    },
    {
     "data": {
      "text/plain": "Training...:   0%|          | 0/235 [00:00<?, ?it/s]",
      "application/vnd.jupyter.widget-view+json": {
       "version_major": 2,
       "version_minor": 0,
       "model_id": "86337def13e44e6e959c6d5f781b2462"
      }
     },
     "metadata": {},
     "output_type": "display_data"
    },
    {
     "data": {
      "text/plain": "Training...:   0%|          | 0/235 [00:00<?, ?it/s]",
      "application/vnd.jupyter.widget-view+json": {
       "version_major": 2,
       "version_minor": 0,
       "model_id": "f87a418310304304b0f002ccffc289a7"
      }
     },
     "metadata": {},
     "output_type": "display_data"
    },
    {
     "data": {
      "text/plain": "Training...:   0%|          | 0/235 [00:00<?, ?it/s]",
      "application/vnd.jupyter.widget-view+json": {
       "version_major": 2,
       "version_minor": 0,
       "model_id": "18537ff7b5b641be91c77326947af270"
      }
     },
     "metadata": {},
     "output_type": "display_data"
    },
    {
     "data": {
      "text/plain": "Training...:   0%|          | 0/235 [00:00<?, ?it/s]",
      "application/vnd.jupyter.widget-view+json": {
       "version_major": 2,
       "version_minor": 0,
       "model_id": "dedd21f18ceb467cbb57fc95eb8f5a3d"
      }
     },
     "metadata": {},
     "output_type": "display_data"
    },
    {
     "data": {
      "text/plain": "Training...:   0%|          | 0/235 [00:00<?, ?it/s]",
      "application/vnd.jupyter.widget-view+json": {
       "version_major": 2,
       "version_minor": 0,
       "model_id": "46f498353854472a93c83b98b5667d3d"
      }
     },
     "metadata": {},
     "output_type": "display_data"
    },
    {
     "data": {
      "text/plain": "Training...:   0%|          | 0/235 [00:00<?, ?it/s]",
      "application/vnd.jupyter.widget-view+json": {
       "version_major": 2,
       "version_minor": 0,
       "model_id": "29b6942b68fb420c8d0aab97f190201d"
      }
     },
     "metadata": {},
     "output_type": "display_data"
    },
    {
     "name": "stdout",
     "output_type": "stream",
     "text": [
      "mean classification accuracy=0.6030\n"
     ]
    },
    {
     "data": {
      "text/plain": "<Figure size 432x288 with 1 Axes>",
      "image/png": "[encoded data removed]"
     },
     "metadata": {
      "needs_background": "light"
     },
     "output_type": "display_data"
    }
   ]
  },
  {
   "cell_type": "markdown",
   "source": [
    "# Question 2. Barlow Twins\n",
    "\n",
    "Here we will implement [barlow twins](https://arxiv.org/abs/2103.03230).\n",
    "\n",
    "* You can use same architechure as in practice. \n",
    "\n",
    "* Dataset comes untransformed, so you need to apply transformations during training by yourself. Use same augmentations as in SimCLR\n",
    "\n",
    "**Hyperparameters**\n",
    "\n",
    "* λ = 0.01 \n",
    "* lr = 5e-4\n",
    "* num_epochs = 20\n",
    "* latent dim = 128\n",
    "\n",
    "\n",
    "\n",
    "**You will provide the following deliverables**\n",
    "\n",
    "\n",
    "1. Over the course of training, record loss ber batch.\n",
    "2. A function that encodes a batch of images with your trained model. The function recieves a batch torch tensors on cpu and should return transformed 2d tensor (batch size x laten dim). It will be used to test representation on classification task."
   ],
   "metadata": {
    "id": "hlbaIthyMGab"
   }
  },
  {
   "cell_type": "code",
   "execution_count": 2,
   "outputs": [],
   "source": [
    "from src.btwins import BTWINS"
   ],
   "metadata": {
    "collapsed": false,
    "pycharm": {
     "name": "#%%\n"
    }
   }
  },
  {
   "cell_type": "code",
   "source": [
    "def q2(train_data, test_data):\n",
    "    \"\"\"\n",
    "    train_data: An (n_train, 1, 32, 32) torchvision dataset of CIFAR10 images with values from -1 to 1\n",
    "\n",
    "    Returns\n",
    "    - a (# of training iterations, ) numpy array  losses on each iteration\n",
    "    - a function that transforms batch of images into their latent representation\n",
    "    \"\"\"\n",
    "    batch_size = 256\n",
    "    lr = 5e-4\n",
    "    epochs = 20\n",
    "    trainloader = DataLoader(train_data, batch_size=batch_size, shuffle=True)\n",
    "    model = BTWINS().to(device)\n",
    "\n",
    "    losses = model.fit(trainloader, epochs=epochs, lr=lr)\n",
    "\n",
    "    return losses, model.encode"
   ],
   "metadata": {
    "id": "pd6RrZfP75HR"
   },
   "execution_count": 4,
   "outputs": []
  },
  {
   "cell_type": "code",
   "source": [
    "# change flag to False if you want only to test your losses w/o accuracy (it takes around 4-5 minutes)\n",
    "q2_results(q2, True)"
   ],
   "metadata": {
    "id": "EA1Z_s1a8_sB"
   },
   "execution_count": 5,
   "outputs": [
    {
     "name": "stdout",
     "output_type": "stream",
     "text": [
      "Files already downloaded and verified\n",
      "Files already downloaded and verified\n"
     ]
    },
    {
     "name": "stderr",
     "output_type": "stream",
     "text": [
      "Training...: 100%|██████████| 196/196 [00:19<00:00,  9.90it/s, epoch=0]\n",
      "Training...: 100%|██████████| 196/196 [00:20<00:00,  9.75it/s, epoch=1]\n",
      "Training...: 100%|██████████| 196/196 [00:19<00:00,  9.80it/s, epoch=2]\n",
      "Training...: 100%|██████████| 196/196 [00:20<00:00,  9.70it/s, epoch=3]\n",
      "Training...: 100%|██████████| 196/196 [00:20<00:00,  9.78it/s, epoch=4]\n",
      "Training...: 100%|██████████| 196/196 [00:19<00:00,  9.86it/s, epoch=5]\n",
      "Training...: 100%|██████████| 196/196 [00:19<00:00,  9.81it/s, epoch=6]\n",
      "Training...: 100%|██████████| 196/196 [00:19<00:00,  9.81it/s, epoch=7]\n",
      "Training...: 100%|██████████| 196/196 [00:19<00:00,  9.93it/s, epoch=8]\n",
      "Training...: 100%|██████████| 196/196 [00:19<00:00,  9.81it/s, epoch=9]\n",
      "Training...: 100%|██████████| 196/196 [00:20<00:00,  9.74it/s, epoch=10]\n",
      "Training...: 100%|██████████| 196/196 [00:19<00:00, 10.09it/s, epoch=11]\n",
      "Training...: 100%|██████████| 196/196 [00:20<00:00,  9.76it/s, epoch=12]\n",
      "Training...: 100%|██████████| 196/196 [00:19<00:00,  9.81it/s, epoch=13]\n",
      "Training...: 100%|██████████| 196/196 [00:19<00:00,  9.97it/s, epoch=14]\n",
      "Training...: 100%|██████████| 196/196 [00:20<00:00,  9.75it/s, epoch=15]\n",
      "Training...: 100%|██████████| 196/196 [00:19<00:00, 10.03it/s, epoch=16]\n",
      "Training...: 100%|██████████| 196/196 [00:19<00:00, 10.05it/s, epoch=17]\n",
      "Training...: 100%|██████████| 196/196 [00:19<00:00,  9.92it/s, epoch=18]\n",
      "Training...: 100%|██████████| 196/196 [00:20<00:00,  9.73it/s, epoch=19]\n"
     ]
    },
    {
     "name": "stdout",
     "output_type": "stream",
     "text": [
      "mean classification accuracy=0.3579\n"
     ]
    },
    {
     "data": {
      "text/plain": "<Figure size 432x288 with 1 Axes>",
      "image/png": "[encoded data removed]"
     },
     "metadata": {
      "needs_background": "light"
     },
     "output_type": "display_data"
    }
   ]
  },
  {
   "cell_type": "markdown",
   "source": [
    "# Bonus. SwAV\n",
    "\n",
    "Here we will implement [SwAV](https://arxiv.org/abs/2006.09882v5)\n",
    "\n",
    "**You will provide the following deliverables**\n",
    "\n",
    "\n",
    "1. Over the course of training, record loss ber batch.\n",
    "2. A function that encodes a batch of images with your trained model. The function recieves a batch torch tensors on cpu and should return transformed 2d tensor (batch size x laten dim). It will be used to test representation on classification task."
   ],
   "metadata": {
    "id": "D8UN9nr9aYGx"
   }
  },
  {
   "cell_type": "code",
   "execution_count": 2,
   "outputs": [],
   "source": [
    "from src.swav import SwAV"
   ],
   "metadata": {
    "collapsed": false,
    "pycharm": {
     "name": "#%%\n"
    }
   }
  },
  {
   "cell_type": "code",
   "source": [
    "def b(train_data, test_data):\n",
    "    \"\"\"\n",
    "    train_data: An (n_train, 1, 32, 32) torchvision dataset of CIFAR10 images with values from -1 to 1\n",
    "\n",
    "    Returns\n",
    "    - a (# of training iterations, ) numpy array  losses on each iteration\n",
    "    - a function that transforms batch of images into their latent representation\n",
    "    \"\"\"\n",
    "    trainloader = DataLoader(train_data, batch_size=128, shuffle=True)\n",
    "\n",
    "    model = SwAV(128, 128, 30).to(device)\n",
    "    losses = model.fit(trainloader, epochs=15, lr=3e-4)\n",
    "    return losses, model.get_latents\n"
   ],
   "metadata": {
    "id": "1Yin_8Ebaa8P"
   },
   "execution_count": 3,
   "outputs": []
  },
  {
   "cell_type": "code",
   "source": [
    "q2_results(b, True)"
   ],
   "metadata": {
    "id": "S0jgIgLN8tzd"
   },
   "execution_count": 4,
   "outputs": [
    {
     "name": "stdout",
     "output_type": "stream",
     "text": [
      "Files already downloaded and verified\n",
      "Files already downloaded and verified\n"
     ]
    },
    {
     "name": "stderr",
     "output_type": "stream",
     "text": [
      "Training...:   0%|          | 0/391 [00:00<?, ?it/s, epoch=0]/home/stas/Documents/HSE/dul_2021/src/swav.py:58: UserWarning: Implicit dimension choice for softmax has been deprecated. Change the call to include dim=X as an argument.\n",
      "  p_t = F.softmax(scores_t / 0.1)\n",
      "/home/stas/Documents/HSE/dul_2021/src/swav.py:59: UserWarning: Implicit dimension choice for softmax has been deprecated. Change the call to include dim=X as an argument.\n",
      "  p_s = F.softmax(scores_s / 0.1)\n",
      "Training...: 100%|██████████| 391/391 [00:16<00:00, 23.56it/s, epoch=0]\n",
      "Training...: 100%|██████████| 391/391 [00:16<00:00, 23.92it/s, epoch=1]\n",
      "Training...: 100%|██████████| 391/391 [00:16<00:00, 24.03it/s, epoch=2]\n",
      "Training...: 100%|██████████| 391/391 [00:16<00:00, 24.04it/s, epoch=3]\n",
      "Training...: 100%|██████████| 391/391 [00:16<00:00, 23.94it/s, epoch=4]\n",
      "Training...: 100%|██████████| 391/391 [00:16<00:00, 23.77it/s, epoch=5]\n",
      "Training...: 100%|██████████| 391/391 [00:16<00:00, 24.04it/s, epoch=6]\n",
      "Training...: 100%|██████████| 391/391 [00:16<00:00, 23.90it/s, epoch=7]\n",
      "Training...: 100%|██████████| 391/391 [00:16<00:00, 23.73it/s, epoch=8]\n",
      "Training...: 100%|██████████| 391/391 [00:16<00:00, 23.77it/s, epoch=9]\n",
      "Training...: 100%|██████████| 391/391 [00:16<00:00, 23.76it/s, epoch=10]\n",
      "Training...: 100%|██████████| 391/391 [00:16<00:00, 23.80it/s, epoch=11]\n",
      "Training...: 100%|██████████| 391/391 [00:16<00:00, 23.85it/s, epoch=12]\n",
      "Training...: 100%|██████████| 391/391 [00:16<00:00, 24.02it/s, epoch=13]\n",
      "Training...: 100%|██████████| 391/391 [00:16<00:00, 23.78it/s, epoch=14]\n"
     ]
    },
    {
     "data": {
      "text/plain": "<Figure size 432x288 with 1 Axes>",
      "image/png": "[encoded data removed]"
     },
     "metadata": {
      "needs_background": "light"
     },
     "output_type": "display_data"
    },
    {
     "name": "stdout",
     "output_type": "stream",
     "text": [
      "mean classification accuracy=0.4007\n"
     ]
    }
   ]
  },
  {
   "cell_type": "code",
   "execution_count": null,
   "outputs": [],
   "source": [],
   "metadata": {
    "collapsed": false,
    "pycharm": {
     "name": "#%%\n"
    }
   }
  }
 ]
}